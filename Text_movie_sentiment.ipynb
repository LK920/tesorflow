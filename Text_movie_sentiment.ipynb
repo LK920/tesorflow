{
  "nbformat": 4,
  "nbformat_minor": 0,
  "metadata": {
    "colab": {
      "name": "Text_movie_sentiment.ipynb",
      "provenance": [],
      "collapsed_sections": [],
      "mount_file_id": "1JPvH_5MfNvpHrpu-YFTazsxzhTWSBG1G",
      "authorship_tag": "ABX9TyOpq+4nH1p9tDwvMGZBapP8",
      "include_colab_link": true
    },
    "kernelspec": {
      "name": "python3",
      "display_name": "Python 3"
    },
    "accelerator": "GPU"
  },
  "cells": [
    {
      "cell_type": "markdown",
      "metadata": {
        "id": "view-in-github",
        "colab_type": "text"
      },
      "source": [
        "<a href=\"https://colab.research.google.com/github/LK920/tesorflow/blob/master/Text_movie_sentiment.ipynb\" target=\"_parent\"><img src=\"https://colab.research.google.com/assets/colab-badge.svg\" alt=\"Open In Colab\"/></a>"
      ]
    },
    {
      "cell_type": "code",
      "metadata": {
        "id": "O010uWTYdbUP",
        "colab_type": "code",
        "colab": {}
      },
      "source": [
        "#구글 드라이브 연결\n",
        "from google.colab import drive\n",
        "drive.mount('/content/drive')"
      ],
      "execution_count": null,
      "outputs": []
    },
    {
      "cell_type": "code",
      "metadata": {
        "id": "zYj1wtdGcI9J",
        "colab_type": "code",
        "colab": {}
      },
      "source": [
        "\"\"\"\n",
        "날짜 : 20/09/08\n",
        "이름 : 강래구\n",
        "내용 : 영화 리뷰 감성 분석하기\n",
        "\"\"\"\n",
        "import codecs\n",
        "import numpy as np\n",
        "from tensorflow.keras.preprocessing import sequence\n",
        "from tensorflow.keras.preprocessing.text import Tokenizer\n",
        "from tensorflow.keras.preprocessing.sequence import pad_sequences\n",
        "from tensorflow.keras.models import Sequential\n",
        "from tensorflow.keras.layers import Dense, Embedding\n",
        "from tensorflow.keras.layers import LSTM\n"
      ],
      "execution_count": 30,
      "outputs": []
    },
    {
      "cell_type": "code",
      "metadata": {
        "id": "ZLgQZa1VdibJ",
        "colab_type": "code",
        "colab": {}
      },
      "source": [
        "#파일 로드 함수 정의\n",
        "def load_data(file):\n",
        "  result =[]\n",
        "  with open(file, 'r', encoding='utf-8') as f:\n",
        "    lines = f.read().splitlines()\n",
        "\n",
        "    for line in lines:\n",
        "      data = line.split('\\t')\n",
        "      result.append(data)\n",
        "  \n",
        "  result=result[1:] #header 정보 제외\n",
        "  return result\n",
        "\n",
        "#데이터셋 생성 함수 정의\n",
        "def make_dataset(train_data, test_data):\n",
        "  #학습용\n",
        "  train_x = []\n",
        "  train_y = []\n",
        "\n",
        "  for i in range(len(train_data)):\n",
        "    train_x.append(train_data[i][1])\n",
        "    train_y.append(int(train_data[i][2]))\n",
        "\n",
        "  #테스트용\n",
        "  test_x = []\n",
        "  test_y = []\n",
        "\n",
        "  for i in range(len(test_data)):\n",
        "    test_x.append(test_data[i][1])\n",
        "    test_y.append(int(test_data[i][2]))\n",
        "\n",
        "  #최대 5000개의 단어를 갖는 단어사전 생성\n",
        "  tokenizer = Tokenizer(num_words=5000)\n",
        "  tokenizer.fit_on_texts(train_x)\n",
        "\n",
        "  #BOW 표기\n",
        "  token_train_x = tokenizer.texts_to_sequences(train_x)\n",
        "  token_test_x = tokenizer.texts_to_sequences(test_x)\n",
        "\n",
        "  return (token_train_x, train_y),(token_test_x, test_y)"
      ],
      "execution_count": 31,
      "outputs": []
    },
    {
      "cell_type": "code",
      "metadata": {
        "id": "xahWzP4WkOgm",
        "colab_type": "code",
        "colab": {
          "base_uri": "https://localhost:8080/",
          "height": 35
        },
        "outputId": "94f3de0c-5c34-46f1-854b-da5c6b9f6986"
      },
      "source": [
        "#데이터셋 로드\n",
        "train_data = load_data('/content/drive/My Drive/Tensorflow_works/data/ratings_train.txt')\n",
        "test_data = load_data('/content/drive/My Drive/Tensorflow_works/data/ratings_test.txt')\n",
        "train_data[0]"
      ],
      "execution_count": 41,
      "outputs": [
        {
          "output_type": "execute_result",
          "data": {
            "text/plain": [
              "['9976970', '아 더빙.. 진짜 짜증나네요 목소리', '0']"
            ]
          },
          "metadata": {
            "tags": []
          },
          "execution_count": 41
        }
      ]
    },
    {
      "cell_type": "code",
      "metadata": {
        "id": "n6l15sLRklFD",
        "colab_type": "code",
        "colab": {}
      },
      "source": [
        "#데이터셋 생성\n",
        "(train_x, train_y),(test_x, test_y) = make_dataset(train_data, test_data)"
      ],
      "execution_count": 33,
      "outputs": []
    },
    {
      "cell_type": "code",
      "metadata": {
        "id": "RrHegqDmlSWl",
        "colab_type": "code",
        "colab": {
          "base_uri": "https://localhost:8080/",
          "height": 89
        },
        "outputId": "403222a1-a53c-4926-bfeb-c29477fb6d41"
      },
      "source": [
        "#데이터셋 확인\n",
        "print(train_x[0],train_y[0])\n",
        "print(train_x[1],train_y[1])\n",
        "print(test_x[0],test_y[0])\n",
        "print(test_x[49999],test_y[49999])\n"
      ],
      "execution_count": 34,
      "outputs": [
        {
          "output_type": "stream",
          "text": [
            "[23, 936, 4, 1097] 0\n",
            "[602] 1\n",
            "[639, 49] 1\n",
            "[56, 1376] 0\n"
          ],
          "name": "stdout"
        }
      ]
    },
    {
      "cell_type": "code",
      "metadata": {
        "id": "LlUFZG4Blpey",
        "colab_type": "code",
        "colab": {
          "base_uri": "https://localhost:8080/",
          "height": 35
        },
        "outputId": "4c874e9e-4fe6-43dd-a039-c93756e76327"
      },
      "source": [
        "#데이터 전처리\n",
        "train_x = sequence.pad_sequences(train_x, maxlen=100)\n",
        "test_x = sequence.pad_sequences(test_x, maxlen=100)\n",
        "\n",
        "train_y = np.array(train_y)\n",
        "test_y = np.array(test_y)\n",
        "\n",
        "len(train_x[0])\n"
      ],
      "execution_count": 35,
      "outputs": [
        {
          "output_type": "execute_result",
          "data": {
            "text/plain": [
              "100"
            ]
          },
          "metadata": {
            "tags": []
          },
          "execution_count": 35
        }
      ]
    },
    {
      "cell_type": "code",
      "metadata": {
        "id": "8ZqcXKm0nHPF",
        "colab_type": "code",
        "colab": {
          "base_uri": "https://localhost:8080/",
          "height": 269
        },
        "outputId": "efdeda81-ed7c-4d08-e573-ce5cfdd31146"
      },
      "source": [
        "#모델 구성\n",
        "model = Sequential()\n",
        "model.add(Embedding(5000,128))\n",
        "model.add(LSTM(128, dropout=0.2))\n",
        "model.add(Dense(1, activation='sigmoid'))\n",
        "model.summary()"
      ],
      "execution_count": 36,
      "outputs": [
        {
          "output_type": "stream",
          "text": [
            "Model: \"sequential_3\"\n",
            "_________________________________________________________________\n",
            "Layer (type)                 Output Shape              Param #   \n",
            "=================================================================\n",
            "embedding_3 (Embedding)      (None, None, 128)         640000    \n",
            "_________________________________________________________________\n",
            "lstm_2 (LSTM)                (None, 128)               131584    \n",
            "_________________________________________________________________\n",
            "dense_2 (Dense)              (None, 1)                 129       \n",
            "=================================================================\n",
            "Total params: 771,713\n",
            "Trainable params: 771,713\n",
            "Non-trainable params: 0\n",
            "_________________________________________________________________\n"
          ],
          "name": "stdout"
        }
      ]
    },
    {
      "cell_type": "code",
      "metadata": {
        "id": "_KKWsbwxmrOG",
        "colab_type": "code",
        "colab": {}
      },
      "source": [
        "#모델설정\n",
        "model.compile(optimizer='adam',\n",
        "              loss='binary_crossentropy',\n",
        "              metrics=['acc'])"
      ],
      "execution_count": 37,
      "outputs": []
    },
    {
      "cell_type": "code",
      "metadata": {
        "id": "N26ew-gVnua9",
        "colab_type": "code",
        "colab": {
          "base_uri": "https://localhost:8080/",
          "height": 395
        },
        "outputId": "fbb8a8ca-a697-4252-812b-8441d63748c9"
      },
      "source": [
        "#모델 학습\n",
        "model.fit(train_x,\n",
        "          train_y,\n",
        "          batch_size= 128,\n",
        "          epochs=10)"
      ],
      "execution_count": 38,
      "outputs": [
        {
          "output_type": "stream",
          "text": [
            "Epoch 1/10\n",
            "1172/1172 [==============================] - 18s 16ms/step - loss: 0.4495 - acc: 0.7688\n",
            "Epoch 2/10\n",
            "1172/1172 [==============================] - 18s 16ms/step - loss: 0.4041 - acc: 0.7926\n",
            "Epoch 3/10\n",
            "1172/1172 [==============================] - 18s 16ms/step - loss: 0.3872 - acc: 0.8007\n",
            "Epoch 4/10\n",
            "1172/1172 [==============================] - 18s 16ms/step - loss: 0.3722 - acc: 0.8071\n",
            "Epoch 5/10\n",
            "1172/1172 [==============================] - 19s 16ms/step - loss: 0.3602 - acc: 0.8132\n",
            "Epoch 6/10\n",
            "1172/1172 [==============================] - 19s 16ms/step - loss: 0.3479 - acc: 0.8191\n",
            "Epoch 7/10\n",
            "1172/1172 [==============================] - 19s 16ms/step - loss: 0.3346 - acc: 0.8253\n",
            "Epoch 8/10\n",
            "1172/1172 [==============================] - 19s 16ms/step - loss: 0.3207 - acc: 0.8315\n",
            "Epoch 9/10\n",
            "1172/1172 [==============================] - 19s 16ms/step - loss: 0.3056 - acc: 0.8400\n",
            "Epoch 10/10\n",
            "1172/1172 [==============================] - 19s 16ms/step - loss: 0.2918 - acc: 0.8457\n"
          ],
          "name": "stdout"
        },
        {
          "output_type": "execute_result",
          "data": {
            "text/plain": [
              "<tensorflow.python.keras.callbacks.History at 0x7f1e3e229080>"
            ]
          },
          "metadata": {
            "tags": []
          },
          "execution_count": 38
        }
      ]
    },
    {
      "cell_type": "code",
      "metadata": {
        "id": "efJt6Zm_oBsF",
        "colab_type": "code",
        "colab": {
          "base_uri": "https://localhost:8080/",
          "height": 53
        },
        "outputId": "f2aa06a0-8215-428e-fe13-e92d2122b8a8"
      },
      "source": [
        "#모델 성능 확인\n",
        "result = model.evaluate(test_x, test_y, batch_size=128)\n",
        "result"
      ],
      "execution_count": 39,
      "outputs": [
        {
          "output_type": "stream",
          "text": [
            "391/391 [==============================] - 2s 5ms/step - loss: 0.5383 - acc: 0.7692\n"
          ],
          "name": "stdout"
        },
        {
          "output_type": "execute_result",
          "data": {
            "text/plain": [
              "[0.5382684469223022, 0.7691799998283386]"
            ]
          },
          "metadata": {
            "tags": []
          },
          "execution_count": 39
        }
      ]
    },
    {
      "cell_type": "code",
      "metadata": {
        "id": "v5qPI_0RoD_t",
        "colab_type": "code",
        "colab": {
          "base_uri": "https://localhost:8080/",
          "height": 35
        },
        "outputId": "c2229394-69ac-473d-ef6e-848ab408c8ac"
      },
      "source": [
        "#모델 저장\n",
        "model.save('/content/drive/My Drive/Tensorflow_works/model/review1.model')"
      ],
      "execution_count": 40,
      "outputs": [
        {
          "output_type": "stream",
          "text": [
            "INFO:tensorflow:Assets written to: /content/drive/My Drive/Tensorflow_works/model/review1.model/assets\n"
          ],
          "name": "stdout"
        }
      ]
    },
    {
      "cell_type": "code",
      "metadata": {
        "id": "tf4eJEjhre_v",
        "colab_type": "code",
        "colab": {}
      },
      "source": [
        ""
      ],
      "execution_count": null,
      "outputs": []
    }
  ]
}