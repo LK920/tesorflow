{
  "nbformat": 4,
  "nbformat_minor": 0,
  "metadata": {
    "colab": {
      "name": "Text_movie_model_test.ipynb",
      "provenance": [],
      "mount_file_id": "1a5Yl_w_D93IvN1oMcXao4hAXZiwTG7ff",
      "authorship_tag": "ABX9TyOVQGcU1FGC9b39GT+eui49",
      "include_colab_link": true
    },
    "kernelspec": {
      "name": "python3",
      "display_name": "Python 3"
    }
  },
  "cells": [
    {
      "cell_type": "markdown",
      "metadata": {
        "id": "view-in-github",
        "colab_type": "text"
      },
      "source": [
        "<a href=\"https://colab.research.google.com/github/LK920/tesorflow/blob/master/Text_movie_model_test.ipynb\" target=\"_parent\"><img src=\"https://colab.research.google.com/assets/colab-badge.svg\" alt=\"Open In Colab\"/></a>"
      ]
    },
    {
      "cell_type": "code",
      "metadata": {
        "id": "RHCyjF6Zo-_X",
        "colab_type": "code",
        "colab": {}
      },
      "source": [
        "\"\"\"\n",
        "날짜 : 2020/09/08\n",
        "이름 : 강래구\n",
        "내용 : 학습된 영화리뷰 모델 테스트하기\n",
        "\"\"\"\n",
        "\n",
        "\n",
        "from keras.models import load_model\n",
        "from tensorflow.keras.preprocessing.text import Tokenizer\n",
        "from tensorflow.keras.preprocessing.sequence import pad_sequences"
      ],
      "execution_count": 21,
      "outputs": []
    },
    {
      "cell_type": "code",
      "metadata": {
        "id": "TQI3Zft9pl3I",
        "colab_type": "code",
        "colab": {}
      },
      "source": [
        "#파일 로드 함수 정의\n",
        "def load_data(file):\n",
        "  result =[]\n",
        "  with open(file, 'r', encoding='utf-8') as f:\n",
        "    lines = f.read().splitlines()\n",
        "\n",
        "    for line in lines:\n",
        "      data = line.split('\\t')\n",
        "      result.append(data)\n",
        "    \n",
        "  \n",
        "  result=result[1:] #header 정보 제외\n",
        "\n",
        "  return result\n"
      ],
      "execution_count": 22,
      "outputs": []
    },
    {
      "cell_type": "code",
      "metadata": {
        "id": "0wOkj25apx3-",
        "colab_type": "code",
        "colab": {
          "base_uri": "https://localhost:8080/",
          "height": 35
        },
        "outputId": "a361de98-bfe2-43ea-90a3-27ff88e03a6b"
      },
      "source": [
        "#데이터 파일 로드\n",
        "train_data = load_data('/content/drive/My Drive/Tensorflow_works/data/ratings_train.txt')\n",
        "train_data[0]"
      ],
      "execution_count": 23,
      "outputs": [
        {
          "output_type": "execute_result",
          "data": {
            "text/plain": [
              "['9976970', '아 더빙.. 진짜 짜증나네요 목소리', '0']"
            ]
          },
          "metadata": {
            "tags": []
          },
          "execution_count": 23
        }
      ]
    },
    {
      "cell_type": "code",
      "metadata": {
        "id": "8UAj-eFlp442",
        "colab_type": "code",
        "colab": {}
      },
      "source": [
        "#최대 5000개의 단어를 갖는 단어사전 생성\n",
        "train_x = []\n",
        "\n",
        "for i in range(len(train_data)):\n",
        "  train_x.append(train_data[i][1])\n",
        "\n",
        "tokenizer = Tokenizer(num_words=5000)\n",
        "tokenizer.fit_on_texts(train_x)"
      ],
      "execution_count": 24,
      "outputs": []
    },
    {
      "cell_type": "code",
      "metadata": {
        "id": "M3yDbzeXqS7m",
        "colab_type": "code",
        "colab": {}
      },
      "source": [
        "#테스트 데이터 생성 및 전처리\n",
        "test_data = ['시간 가는 줄 모르고 봤습니다.',\n",
        "             '시간 낭비 했어요....',\n",
        "             '돈 아까워요...',\n",
        "             '올해 최고의 영화',\n",
        "             '초반에는 재밌었는데 중반으로 갈수록....',\n",
        "             '가족 영화로 추천합니다.',\n",
        "             '영화 보면서 잠만 잤습니다.',\n",
        "             '역시 믿고 보는 송강호',\n",
        "             '와 이거 감독판으로 나왔으면 좋겠다.',\n",
        "             '스토리가 없어요 정말이에요']\n",
        "token_test_data = tokenizer.texts_to_sequences(test_data)\n",
        "#token_test_data\n",
        "\n",
        "pad_test_data = pad_sequences(token_test_data, maxlen=100)"
      ],
      "execution_count": 25,
      "outputs": []
    },
    {
      "cell_type": "code",
      "metadata": {
        "id": "LmzuOQV_rGNm",
        "colab_type": "code",
        "colab": {
          "base_uri": "https://localhost:8080/",
          "height": 35
        },
        "outputId": "c6c41cbc-354e-473e-f8c2-eb6013ee9fe4"
      },
      "source": [
        "#모델 로드\n",
        "model = load_model('/content/drive/My Drive/Tensorflow_works/model/review1.model')\n",
        "model"
      ],
      "execution_count": 26,
      "outputs": [
        {
          "output_type": "execute_result",
          "data": {
            "text/plain": [
              "<tensorflow.python.keras.engine.sequential.Sequential at 0x7fc5f4997278>"
            ]
          },
          "metadata": {
            "tags": []
          },
          "execution_count": 26
        }
      ]
    },
    {
      "cell_type": "code",
      "metadata": {
        "id": "uBGtHmRyr4z5",
        "colab_type": "code",
        "colab": {
          "base_uri": "https://localhost:8080/",
          "height": 235
        },
        "outputId": "a035af95-0e68-4638-b6f6-5649e8f7162a"
      },
      "source": [
        "#모델 테스트\n",
        "result = model.predict(pad_test_data)\n",
        "result"
      ],
      "execution_count": 27,
      "outputs": [
        {
          "output_type": "stream",
          "text": [
            "WARNING:tensorflow:5 out of the last 6 calls to <function Model.make_predict_function.<locals>.predict_function at 0x7fc5f4973bf8> triggered tf.function retracing. Tracing is expensive and the excessive number of tracings could be due to (1) creating @tf.function repeatedly in a loop, (2) passing tensors with different shapes, (3) passing Python objects instead of tensors. For (1), please define your @tf.function outside of the loop. For (2), @tf.function has experimental_relax_shapes=True option that relaxes argument shapes that can avoid unnecessary retracing. For (3), please refer to https://www.tensorflow.org/tutorials/customization/performance#python_or_tensor_args and https://www.tensorflow.org/api_docs/python/tf/function for  more details.\n"
          ],
          "name": "stdout"
        },
        {
          "output_type": "execute_result",
          "data": {
            "text/plain": [
              "array([[9.8143637e-01],\n",
              "       [2.5046818e-05],\n",
              "       [6.1456621e-02],\n",
              "       [8.5186392e-01],\n",
              "       [4.4788939e-01],\n",
              "       [9.6746123e-01],\n",
              "       [4.7859657e-01],\n",
              "       [9.9545896e-01],\n",
              "       [9.9212378e-01],\n",
              "       [1.0299188e-01]], dtype=float32)"
            ]
          },
          "metadata": {
            "tags": []
          },
          "execution_count": 27
        }
      ]
    },
    {
      "cell_type": "code",
      "metadata": {
        "id": "bfFIfhPhsEwf",
        "colab_type": "code",
        "colab": {}
      },
      "source": [
        ""
      ],
      "execution_count": null,
      "outputs": []
    }
  ]
}