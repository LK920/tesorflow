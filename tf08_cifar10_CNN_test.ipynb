{
  "nbformat": 4,
  "nbformat_minor": 0,
  "metadata": {
    "colab": {
      "name": "tf08_cifar10_CNN_test.ipynb",
      "provenance": [],
      "authorship_tag": "ABX9TyPrxFJFnitd2x2bGvV8l2EJ",
      "include_colab_link": true
    },
    "kernelspec": {
      "name": "python3",
      "display_name": "Python 3"
    },
    "accelerator": "GPU"
  },
  "cells": [
    {
      "cell_type": "markdown",
      "metadata": {
        "id": "view-in-github",
        "colab_type": "text"
      },
      "source": [
        "<a href=\"https://colab.research.google.com/github/LK920/tesorflow/blob/master/tf08_cifar10_CNN_test.ipynb\" target=\"_parent\"><img src=\"https://colab.research.google.com/assets/colab-badge.svg\" alt=\"Open In Colab\"/></a>"
      ]
    },
    {
      "cell_type": "code",
      "metadata": {
        "id": "qkIatZIbdO_7",
        "colab_type": "code",
        "colab": {}
      },
      "source": [
        "\"\"\"\n",
        "날짜 : 20/08/19\n",
        "이름 : 강래구\n",
        "내용 : 딥러닝 CNN 이미지 분류 실습하기\n",
        "\"\"\"\n",
        "import matplotlib.pyplot as plt\n",
        "import numpy as np\n",
        "from tensorflow.keras.datasets.cifar10 import load_data\n",
        "from tensorflow.keras.utils import to_categorical\n",
        "from tensorflow.keras.models import Sequential\n",
        "from tensorflow.keras.layers import Dense, Flatten, Conv2D, MaxPool2D, Dropout\n",
        "from sklearn.model_selection import train_test_split\n",
        "from PIL import Image #파이썬 이미지 처리 라이브러리"
      ],
      "execution_count": null,
      "outputs": []
    },
    {
      "cell_type": "code",
      "metadata": {
        "id": "T8AxQ3ycdk1V",
        "colab_type": "code",
        "colab": {
          "base_uri": "https://localhost:8080/",
          "height": 215
        },
        "outputId": "389e108c-9bac-4b13-8aea-e54caec8e5a8"
      },
      "source": [
        "#학습데이터 로드\n",
        "(cifar_train_data, cifar_train_label),(cifar_test_data, cifar_test_label) = load_data()\n",
        "\n",
        "#데이터 형태선언\n",
        "print(cifar_train_data.shape, cifar_train_label.shape)\n",
        "print(cifar_test_data.shape, cifar_test_label.shape)\n",
        "print(cifar_train_label)"
      ],
      "execution_count": null,
      "outputs": [
        {
          "output_type": "stream",
          "text": [
            "Downloading data from https://www.cs.toronto.edu/~kriz/cifar-10-python.tar.gz\n",
            "170500096/170498071 [==============================] - 3s 0us/step\n",
            "(50000, 32, 32, 3) (50000, 1)\n",
            "(10000, 32, 32, 3) (10000, 1)\n",
            "[[6]\n",
            " [9]\n",
            " [9]\n",
            " ...\n",
            " [9]\n",
            " [1]\n",
            " [1]]\n"
          ],
          "name": "stdout"
        }
      ]
    },
    {
      "cell_type": "code",
      "metadata": {
        "id": "0fbwk2Redk90",
        "colab_type": "code",
        "colab": {}
      },
      "source": [
        "#데이터 샘플 이미지 출력\n",
        "class_names = ['Airplane','Automobile','Bird','Cat','Deer','Dog','Frog','Horse','Ship','Truck']\n",
        "random_idx = np.random.randint(50000, size=9)\n",
        "print(random_idx)\n",
        "\n",
        "plt.figure(figsize=(5,5))\n",
        "\n",
        "for i, idx in enumerate(random_idx):\n",
        "  plt.subplot(3, 3, i+1)\n",
        "  plt.xticks([])#x축 y축 기호 제거\n",
        "  plt.yticks([])\n",
        "  label = cifar_train_label[idx][0]\n",
        "  plt.imshow(cifar_train_data[idx, :])\n",
        "  plt.title('%s' %class_names[label])"
      ],
      "execution_count": null,
      "outputs": []
    },
    {
      "cell_type": "code",
      "metadata": {
        "id": "RtbYFshtdlEE",
        "colab_type": "code",
        "colab": {
          "base_uri": "https://localhost:8080/",
          "height": 53
        },
        "outputId": "42e59b82-0af6-4062-aff5-d6232c7e1ebf"
      },
      "source": [
        "#데이터셋 분할하기\n",
        "train_data, test_data, train_label, test_label = train_test_split(cifar_train_data, cifar_train_label)\n",
        "print('훈련데이터, ', train_data.shape)\n",
        "print('검증데이터, ', test_data.shape)"
      ],
      "execution_count": null,
      "outputs": [
        {
          "output_type": "stream",
          "text": [
            "훈련데이터,  (37500, 32, 32, 3)\n",
            "검증데이터,  (12500, 32, 32, 3)\n"
          ],
          "name": "stdout"
        }
      ]
    },
    {
      "cell_type": "code",
      "metadata": {
        "id": "zuPQO2NkdlJs",
        "colab_type": "code",
        "colab": {}
      },
      "source": [
        "# 모델 학습을 위한 데이터 전처리(정규화) - 3채널 이미지(RGB)\n",
        "\n",
        "#방법1 : 픽셀 데이터를 0~1 사이로 초기화하는 정규화 > 정확도 낮음\n",
        "#train_data = train_data / 255 #훈련할때\n",
        "#test_data = test_data / 255 #검증할때\n",
        "#mnist_test_data = mnist_test_data / 255 #최종적으로 predict할때사용\n",
        "\n",
        "#방법2 : 픽셀 데이터를 평균과 표준편차를 이용한 정규화 > 정확도 높음\n",
        "#train_data의 평균과 표준편차\n",
        "mean = np.mean(train_data, axis=(0,1,2))\n",
        "std = np.std(train_data, axis=(0,1,2))\n",
        "\n",
        "train_data = (train_data - mean) / std \n",
        "test_data = (test_data - mean) / std\n",
        "cifar_test_data = (cifar_test_data - mean) / std "
      ],
      "execution_count": null,
      "outputs": []
    },
    {
      "cell_type": "code",
      "metadata": {
        "id": "-THtTH1idlOM",
        "colab_type": "code",
        "colab": {}
      },
      "source": [
        "#각 데이터의 레이블을 범주형 형태로 변환\n",
        "train_label = to_categorical(train_label)\n",
        "test_label = to_categorical(test_label)\n",
        "cifar_test_label = to_categorical(cifar_test_label)"
      ],
      "execution_count": null,
      "outputs": []
    },
    {
      "cell_type": "code",
      "metadata": {
        "id": "G9X-tIlZdlSV",
        "colab_type": "code",
        "colab": {
          "base_uri": "https://localhost:8080/",
          "height": 737
        },
        "outputId": "ba4bfeb3-fb9c-4dc4-ac8b-cccd818a4ff0"
      },
      "source": [
        "#학습모델 구성하기 \n",
        "model = Sequential()\n",
        "\n",
        "#CNN 층 커널사이즈는 3,3으로 이뤄진 1과 0 배열\n",
        "model.add(Conv2D(filters=32, kernel_size=3, padding='same', activation='relu', input_shape=(32,32,3))) #c\n",
        "model.add(Conv2D(filters=32, kernel_size=3, padding='same', activation='relu')) #c\n",
        "model.add(MaxPool2D(pool_size=(2,2), strides=2, padding='same')) #P\n",
        "#드롭아웃 층\n",
        "model.add(Dropout(0.2))\n",
        "\n",
        "model.add(Conv2D(filters=64, kernel_size=3, padding='same', activation='relu')) #c\n",
        "model.add(Conv2D(filters=64, kernel_size=3, padding='same', activation='relu')) #c\n",
        "model.add(MaxPool2D(pool_size=(2,2), strides=2, padding='same')) #P\n",
        "model.add(Dropout(0.2))\n",
        "\n",
        "model.add(Conv2D(filters=128, kernel_size=3, padding='same', activation='relu')) #c\n",
        "model.add(Conv2D(filters=128, kernel_size=3, padding='same', activation='relu')) #c\n",
        "model.add(MaxPool2D(pool_size=(2,2), strides=2, padding='same')) #P\n",
        "model.add(Dropout(0.2))\n",
        "\n",
        "#FCNN(Full Connection Neural Network, 완전연결층)\n",
        "model.add(Flatten()) #입력층\n",
        "model.add(Dense(64, activation='relu')) #은닉층\n",
        "model.add(Dense(32, activation='relu')) #은닉층\n",
        "model.add(Dense(10, activation='softmax')) #출력층\n",
        "\n",
        "#모델 요악확인\n",
        "model.summary()"
      ],
      "execution_count": null,
      "outputs": [
        {
          "output_type": "stream",
          "text": [
            "Model: \"sequential_2\"\n",
            "_________________________________________________________________\n",
            "Layer (type)                 Output Shape              Param #   \n",
            "=================================================================\n",
            "conv2d_8 (Conv2D)            (None, 32, 32, 32)        896       \n",
            "_________________________________________________________________\n",
            "conv2d_9 (Conv2D)            (None, 32, 32, 32)        9248      \n",
            "_________________________________________________________________\n",
            "max_pooling2d_4 (MaxPooling2 (None, 16, 16, 32)        0         \n",
            "_________________________________________________________________\n",
            "dropout_1 (Dropout)          (None, 16, 16, 32)        0         \n",
            "_________________________________________________________________\n",
            "conv2d_10 (Conv2D)           (None, 16, 16, 64)        18496     \n",
            "_________________________________________________________________\n",
            "conv2d_11 (Conv2D)           (None, 16, 16, 64)        36928     \n",
            "_________________________________________________________________\n",
            "max_pooling2d_5 (MaxPooling2 (None, 8, 8, 64)          0         \n",
            "_________________________________________________________________\n",
            "dropout_2 (Dropout)          (None, 8, 8, 64)          0         \n",
            "_________________________________________________________________\n",
            "conv2d_12 (Conv2D)           (None, 8, 8, 128)         73856     \n",
            "_________________________________________________________________\n",
            "conv2d_13 (Conv2D)           (None, 8, 8, 128)         147584    \n",
            "_________________________________________________________________\n",
            "max_pooling2d_6 (MaxPooling2 (None, 4, 4, 128)         0         \n",
            "_________________________________________________________________\n",
            "dropout_3 (Dropout)          (None, 4, 4, 128)         0         \n",
            "_________________________________________________________________\n",
            "flatten_1 (Flatten)          (None, 2048)              0         \n",
            "_________________________________________________________________\n",
            "dense_3 (Dense)              (None, 64)                131136    \n",
            "_________________________________________________________________\n",
            "dense_4 (Dense)              (None, 32)                2080      \n",
            "_________________________________________________________________\n",
            "dense_5 (Dense)              (None, 10)                330       \n",
            "=================================================================\n",
            "Total params: 420,554\n",
            "Trainable params: 420,554\n",
            "Non-trainable params: 0\n",
            "_________________________________________________________________\n"
          ],
          "name": "stdout"
        }
      ]
    },
    {
      "cell_type": "code",
      "metadata": {
        "id": "yPugg1PPdlWU",
        "colab_type": "code",
        "colab": {}
      },
      "source": [
        "#학습모델 설정하기\n",
        "model.compile(optimizer='adam',\n",
        "              loss='categorical_crossentropy',\n",
        "              metrics=['acc'])"
      ],
      "execution_count": null,
      "outputs": []
    },
    {
      "cell_type": "code",
      "metadata": {
        "id": "mASAVXuidlaU",
        "colab_type": "code",
        "colab": {
          "base_uri": "https://localhost:8080/",
          "height": 1000
        },
        "outputId": "6db3085b-3eac-40f2-9424-f151b1cb92b3"
      },
      "source": [
        "#학습하기\n",
        "model.fit(train_data, train_label, epochs=30, batch_size=128, validation_data=(test_data, test_label))"
      ],
      "execution_count": null,
      "outputs": [
        {
          "output_type": "stream",
          "text": [
            "Epoch 1/30\n",
            "293/293 [==============================] - 9s 31ms/step - loss: 1.6653 - acc: 0.3855 - val_loss: 1.3729 - val_acc: 0.4945\n",
            "Epoch 2/30\n",
            "293/293 [==============================] - 9s 29ms/step - loss: 1.2278 - acc: 0.5592 - val_loss: 1.0389 - val_acc: 0.6281\n",
            "Epoch 3/30\n",
            "293/293 [==============================] - 9s 29ms/step - loss: 1.0118 - acc: 0.6379 - val_loss: 0.9061 - val_acc: 0.6767\n",
            "Epoch 4/30\n",
            "293/293 [==============================] - 9s 29ms/step - loss: 0.8598 - acc: 0.6970 - val_loss: 0.8561 - val_acc: 0.6994\n",
            "Epoch 5/30\n",
            "293/293 [==============================] - 9s 29ms/step - loss: 0.7704 - acc: 0.7289 - val_loss: 0.7391 - val_acc: 0.7382\n",
            "Epoch 6/30\n",
            "293/293 [==============================] - 9s 30ms/step - loss: 0.6909 - acc: 0.7560 - val_loss: 0.7285 - val_acc: 0.7474\n",
            "Epoch 7/30\n",
            "293/293 [==============================] - 9s 30ms/step - loss: 0.6304 - acc: 0.7788 - val_loss: 0.6569 - val_acc: 0.7742\n",
            "Epoch 8/30\n",
            "293/293 [==============================] - 9s 29ms/step - loss: 0.5771 - acc: 0.7962 - val_loss: 0.6584 - val_acc: 0.7734\n",
            "Epoch 9/30\n",
            "293/293 [==============================] - 9s 29ms/step - loss: 0.5368 - acc: 0.8103 - val_loss: 0.6323 - val_acc: 0.7854\n",
            "Epoch 10/30\n",
            "293/293 [==============================] - 9s 29ms/step - loss: 0.4925 - acc: 0.8255 - val_loss: 0.6463 - val_acc: 0.7790\n",
            "Epoch 11/30\n",
            "293/293 [==============================] - 9s 29ms/step - loss: 0.4588 - acc: 0.8387 - val_loss: 0.6246 - val_acc: 0.7907\n",
            "Epoch 12/30\n",
            "293/293 [==============================] - 9s 29ms/step - loss: 0.4305 - acc: 0.8466 - val_loss: 0.6093 - val_acc: 0.7970\n",
            "Epoch 13/30\n",
            "293/293 [==============================] - 9s 29ms/step - loss: 0.4040 - acc: 0.8561 - val_loss: 0.6547 - val_acc: 0.7945\n",
            "Epoch 14/30\n",
            "293/293 [==============================] - 9s 29ms/step - loss: 0.3832 - acc: 0.8621 - val_loss: 0.6259 - val_acc: 0.7994\n",
            "Epoch 15/30\n",
            "293/293 [==============================] - 9s 29ms/step - loss: 0.3491 - acc: 0.8742 - val_loss: 0.6579 - val_acc: 0.7926\n",
            "Epoch 16/30\n",
            "293/293 [==============================] - 9s 29ms/step - loss: 0.3381 - acc: 0.8784 - val_loss: 0.6372 - val_acc: 0.8030\n",
            "Epoch 17/30\n",
            "293/293 [==============================] - 9s 29ms/step - loss: 0.3160 - acc: 0.8876 - val_loss: 0.6669 - val_acc: 0.7949\n",
            "Epoch 18/30\n",
            "293/293 [==============================] - 9s 29ms/step - loss: 0.3062 - acc: 0.8902 - val_loss: 0.6959 - val_acc: 0.7925\n",
            "Epoch 19/30\n",
            "293/293 [==============================] - 9s 29ms/step - loss: 0.2954 - acc: 0.8928 - val_loss: 0.6854 - val_acc: 0.7911\n",
            "Epoch 20/30\n",
            "293/293 [==============================] - 9s 30ms/step - loss: 0.2667 - acc: 0.9030 - val_loss: 0.7236 - val_acc: 0.7998\n",
            "Epoch 21/30\n",
            "293/293 [==============================] - 9s 29ms/step - loss: 0.2681 - acc: 0.9051 - val_loss: 0.7327 - val_acc: 0.7858\n",
            "Epoch 22/30\n",
            "293/293 [==============================] - 9s 29ms/step - loss: 0.2474 - acc: 0.9123 - val_loss: 0.7053 - val_acc: 0.8003\n",
            "Epoch 23/30\n",
            "293/293 [==============================] - 9s 29ms/step - loss: 0.2503 - acc: 0.9104 - val_loss: 0.6855 - val_acc: 0.8035\n",
            "Epoch 24/30\n",
            "293/293 [==============================] - 9s 29ms/step - loss: 0.2407 - acc: 0.9130 - val_loss: 0.7058 - val_acc: 0.8014\n",
            "Epoch 25/30\n",
            "293/293 [==============================] - 9s 29ms/step - loss: 0.2229 - acc: 0.9209 - val_loss: 0.7470 - val_acc: 0.8024\n",
            "Epoch 26/30\n",
            "293/293 [==============================] - 9s 29ms/step - loss: 0.2258 - acc: 0.9198 - val_loss: 0.7380 - val_acc: 0.8000\n",
            "Epoch 27/30\n",
            "293/293 [==============================] - 9s 29ms/step - loss: 0.2092 - acc: 0.9261 - val_loss: 0.7108 - val_acc: 0.8015\n",
            "Epoch 28/30\n",
            "293/293 [==============================] - 9s 29ms/step - loss: 0.2130 - acc: 0.9247 - val_loss: 0.7331 - val_acc: 0.7986\n",
            "Epoch 29/30\n",
            "293/293 [==============================] - 9s 29ms/step - loss: 0.2010 - acc: 0.9272 - val_loss: 0.7593 - val_acc: 0.8022\n",
            "Epoch 30/30\n",
            "293/293 [==============================] - 9s 29ms/step - loss: 0.2044 - acc: 0.9277 - val_loss: 0.7721 - val_acc: 0.8054\n"
          ],
          "name": "stdout"
        },
        {
          "output_type": "execute_result",
          "data": {
            "text/plain": [
              "<tensorflow.python.keras.callbacks.History at 0x7f238d6c9dd8>"
            ]
          },
          "metadata": {
            "tags": []
          },
          "execution_count": 13
        }
      ]
    },
    {
      "cell_type": "code",
      "metadata": {
        "id": "pzDl5He9dleM",
        "colab_type": "code",
        "colab": {
          "base_uri": "https://localhost:8080/",
          "height": 53
        },
        "outputId": "8557a3ec-ff5c-4f96-cdba-902962916c38"
      },
      "source": [
        "#평가하기\n",
        "#학습할 때의 정확도와 평갈할때의 정확도가 차이가 나면 과적합을 의심해야한다. 이를 해결하기 위해 드롭아웃 기법 사용\n",
        "model.evaluate(cifar_test_data, cifar_test_label)"
      ],
      "execution_count": null,
      "outputs": [
        {
          "output_type": "stream",
          "text": [
            "313/313 [==============================] - 2s 5ms/step - loss: 0.7580 - acc: 0.8037\n"
          ],
          "name": "stdout"
        },
        {
          "output_type": "execute_result",
          "data": {
            "text/plain": [
              "[0.7579500079154968, 0.8036999702453613]"
            ]
          },
          "metadata": {
            "tags": []
          },
          "execution_count": 14
        }
      ]
    },
    {
      "cell_type": "code",
      "metadata": {
        "id": "IUv9h52_dliN",
        "colab_type": "code",
        "colab": {
          "base_uri": "https://localhost:8080/",
          "height": 35
        },
        "outputId": "b504a8d2-b655-41c0-9978-889b35b46c93"
      },
      "source": [
        "#테스트하기\n",
        "result = model.predict(cifar_test_data)\n",
        "\n",
        "from sklearn.metrics import accuracy_score\n",
        "score = accuracy_score(result.round(), cifar_test_label)\n",
        "print('함수 :', score)"
      ],
      "execution_count": null,
      "outputs": [
        {
          "output_type": "stream",
          "text": [
            "함수 : 0.7926\n"
          ],
          "name": "stdout"
        }
      ]
    },
    {
      "cell_type": "code",
      "metadata": {
        "id": "bkmu7NMGdlls",
        "colab_type": "code",
        "colab": {}
      },
      "source": [
        ""
      ],
      "execution_count": null,
      "outputs": []
    },
    {
      "cell_type": "code",
      "metadata": {
        "id": "QxM8Wy_JdlpU",
        "colab_type": "code",
        "colab": {}
      },
      "source": [
        ""
      ],
      "execution_count": null,
      "outputs": []
    },
    {
      "cell_type": "code",
      "metadata": {
        "id": "kTcaH6hodltU",
        "colab_type": "code",
        "colab": {}
      },
      "source": [
        ""
      ],
      "execution_count": null,
      "outputs": []
    },
    {
      "cell_type": "code",
      "metadata": {
        "id": "mLiCIcrUdlw8",
        "colab_type": "code",
        "colab": {}
      },
      "source": [
        ""
      ],
      "execution_count": null,
      "outputs": []
    }
  ]
}