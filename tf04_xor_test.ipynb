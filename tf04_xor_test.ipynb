{
  "nbformat": 4,
  "nbformat_minor": 0,
  "metadata": {
    "colab": {
      "name": "tf04_xor_test.ipynb",
      "provenance": [],
      "authorship_tag": "ABX9TyOqqT4Gpdg5C5xwSLLqM8B5",
      "include_colab_link": true
    },
    "kernelspec": {
      "name": "python3",
      "display_name": "Python 3"
    }
  },
  "cells": [
    {
      "cell_type": "markdown",
      "metadata": {
        "id": "view-in-github",
        "colab_type": "text"
      },
      "source": [
        "<a href=\"https://colab.research.google.com/github/LK920/tesorflow/blob/master/tf04_xor_test.ipynb\" target=\"_parent\"><img src=\"https://colab.research.google.com/assets/colab-badge.svg\" alt=\"Open In Colab\"/></a>"
      ]
    },
    {
      "cell_type": "code",
      "metadata": {
        "id": "1qET-5qdYcjp",
        "colab_type": "code",
        "colab": {}
      },
      "source": [
        "\"\"\"\n",
        "날짜 : 20/08/18\n",
        "이름 : 강래구\n",
        "내용 : XOR 연산 실습하기\n",
        "\"\"\"\n",
        "\n",
        "import tensorflow as tf\n",
        "import numpy as np\n",
        "from tensorflow.keras.models import Sequential\n",
        "from tensorflow.keras.layers import Dense\n",
        "from tensorflow.keras.optimizers import Adam\n",
        "from tensorflow.keras.losses import mse "
      ],
      "execution_count": null,
      "outputs": []
    },
    {
      "cell_type": "code",
      "metadata": {
        "id": "bD1VIaaAY7JR",
        "colab_type": "code",
        "colab": {}
      },
      "source": [
        "#데이터 준비\n",
        "data = np.array([[0,0],[0,1],[1,0],[1,1]])\n",
        "label = np.array([[0],[1],[1],[0]])"
      ],
      "execution_count": null,
      "outputs": []
    },
    {
      "cell_type": "code",
      "metadata": {
        "id": "pQnxH3RzZOZx",
        "colab_type": "code",
        "colab": {}
      },
      "source": [
        "#모델 구성하기\n",
        "model = Sequential()\n",
        "model.add(Dense(units=100, input_shape=(2,), activation='sigmoid'))\n",
        "model.add(Dense(units=1, activation='sigmoid'))"
      ],
      "execution_count": null,
      "outputs": []
    },
    {
      "cell_type": "code",
      "metadata": {
        "id": "y9CQvyP_ZsQ5",
        "colab_type": "code",
        "colab": {}
      },
      "source": [
        "#모델 설정\n",
        "model.compile(optimizer='Adam', loss=mse, metrics=['acc'])"
      ],
      "execution_count": null,
      "outputs": []
    },
    {
      "cell_type": "code",
      "metadata": {
        "id": "iEmd-CfAZ8IB",
        "colab_type": "code",
        "colab": {}
      },
      "source": [
        "#학습하기\n",
        "model.fit(data, label, epochs=1000)"
      ],
      "execution_count": null,
      "outputs": []
    },
    {
      "cell_type": "code",
      "metadata": {
        "id": "ozg9sjmaaNqQ",
        "colab_type": "code",
        "colab": {
          "base_uri": "https://localhost:8080/",
          "height": 89
        },
        "outputId": "6d978048-efc8-4300-973f-54ba7f21356e"
      },
      "source": [
        "result= model.predict(data)\n",
        "result"
      ],
      "execution_count": null,
      "outputs": [
        {
          "output_type": "execute_result",
          "data": {
            "text/plain": [
              "array([[0.37016755],\n",
              "       [0.59723324],\n",
              "       [0.603513  ],\n",
              "       [0.42694235]], dtype=float32)"
            ]
          },
          "metadata": {
            "tags": []
          },
          "execution_count": 22
        }
      ]
    },
    {
      "cell_type": "code",
      "metadata": {
        "id": "5dtLVuR7bYh6",
        "colab_type": "code",
        "colab": {
          "base_uri": "https://localhost:8080/",
          "height": 53
        },
        "outputId": "f5c56cb4-f576-47df-9d60-4d6251d50455"
      },
      "source": [
        "result= model.evaluate(data, label)\n",
        "result"
      ],
      "execution_count": null,
      "outputs": [
        {
          "output_type": "stream",
          "text": [
            "1/1 [==============================] - 0s 2ms/step - loss: 0.1597 - acc: 1.0000\n"
          ],
          "name": "stdout"
        },
        {
          "output_type": "execute_result",
          "data": {
            "text/plain": [
              "[0.15968169271945953, 1.0]"
            ]
          },
          "metadata": {
            "tags": []
          },
          "execution_count": 23
        }
      ]
    }
  ]
}