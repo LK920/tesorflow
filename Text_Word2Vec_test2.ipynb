{
  "nbformat": 4,
  "nbformat_minor": 0,
  "metadata": {
    "colab": {
      "name": "Text_Word2Vec_test2.ipynb",
      "provenance": [],
      "collapsed_sections": [],
      "mount_file_id": "1tCEkW1DimzAPvb617REzIH0K9b7KlalW",
      "authorship_tag": "ABX9TyN5cKZ2mxs7bi9hsukO9Lxq",
      "include_colab_link": true
    },
    "kernelspec": {
      "name": "python3",
      "display_name": "Python 3"
    },
    "accelerator": "GPU"
  },
  "cells": [
    {
      "cell_type": "markdown",
      "metadata": {
        "id": "view-in-github",
        "colab_type": "text"
      },
      "source": [
        "<a href=\"https://colab.research.google.com/github/LK920/tesorflow/blob/master/Text_Word2Vec_test2.ipynb\" target=\"_parent\"><img src=\"https://colab.research.google.com/assets/colab-badge.svg\" alt=\"Open In Colab\"/></a>"
      ]
    },
    {
      "cell_type": "code",
      "metadata": {
        "id": "lowm-r4dUwG1",
        "colab_type": "code",
        "colab": {
          "base_uri": "https://localhost:8080/"
        },
        "outputId": "6fc033b1-a57d-4005-cb3d-32d022d86b59"
      },
      "source": [
        "pip install konlpy"
      ],
      "execution_count": 2,
      "outputs": [
        {
          "output_type": "stream",
          "text": [
            "Requirement already satisfied: konlpy in /usr/local/lib/python3.6/dist-packages (0.5.2)\n",
            "Requirement already satisfied: numpy>=1.6 in /usr/local/lib/python3.6/dist-packages (from konlpy) (1.18.5)\n",
            "Requirement already satisfied: JPype1>=0.7.0 in /usr/local/lib/python3.6/dist-packages (from konlpy) (1.0.2)\n",
            "Requirement already satisfied: tweepy>=3.7.0 in /usr/local/lib/python3.6/dist-packages (from konlpy) (3.9.0)\n",
            "Requirement already satisfied: colorama in /usr/local/lib/python3.6/dist-packages (from konlpy) (0.4.3)\n",
            "Requirement already satisfied: beautifulsoup4==4.6.0 in /usr/local/lib/python3.6/dist-packages (from konlpy) (4.6.0)\n",
            "Requirement already satisfied: lxml>=4.1.0 in /usr/local/lib/python3.6/dist-packages (from konlpy) (4.2.6)\n",
            "Requirement already satisfied: typing-extensions; python_version < \"3.8\" in /usr/local/lib/python3.6/dist-packages (from JPype1>=0.7.0->konlpy) (3.7.4.3)\n",
            "Requirement already satisfied: requests-oauthlib>=0.7.0 in /usr/local/lib/python3.6/dist-packages (from tweepy>=3.7.0->konlpy) (1.3.0)\n",
            "Requirement already satisfied: requests[socks]>=2.11.1 in /usr/local/lib/python3.6/dist-packages (from tweepy>=3.7.0->konlpy) (2.23.0)\n",
            "Requirement already satisfied: six>=1.10.0 in /usr/local/lib/python3.6/dist-packages (from tweepy>=3.7.0->konlpy) (1.15.0)\n",
            "Requirement already satisfied: oauthlib>=3.0.0 in /usr/local/lib/python3.6/dist-packages (from requests-oauthlib>=0.7.0->tweepy>=3.7.0->konlpy) (3.1.0)\n",
            "Requirement already satisfied: urllib3!=1.25.0,!=1.25.1,<1.26,>=1.21.1 in /usr/local/lib/python3.6/dist-packages (from requests[socks]>=2.11.1->tweepy>=3.7.0->konlpy) (1.24.3)\n",
            "Requirement already satisfied: certifi>=2017.4.17 in /usr/local/lib/python3.6/dist-packages (from requests[socks]>=2.11.1->tweepy>=3.7.0->konlpy) (2020.6.20)\n",
            "Requirement already satisfied: idna<3,>=2.5 in /usr/local/lib/python3.6/dist-packages (from requests[socks]>=2.11.1->tweepy>=3.7.0->konlpy) (2.10)\n",
            "Requirement already satisfied: chardet<4,>=3.0.2 in /usr/local/lib/python3.6/dist-packages (from requests[socks]>=2.11.1->tweepy>=3.7.0->konlpy) (3.0.4)\n",
            "Requirement already satisfied: PySocks!=1.5.7,>=1.5.6; extra == \"socks\" in /usr/local/lib/python3.6/dist-packages (from requests[socks]>=2.11.1->tweepy>=3.7.0->konlpy) (1.7.1)\n"
          ],
          "name": "stdout"
        }
      ]
    },
    {
      "cell_type": "code",
      "metadata": {
        "id": "iQnkflQ3UT5E",
        "colab_type": "code",
        "colab": {}
      },
      "source": [
        "\"\"\"\n",
        "날짜 : 20/09/08\n",
        "이름 : 강래구\n",
        "내용 : 한글 word2vec  실습하기}\n",
        "\"\"\"\n",
        "\n",
        "import codecs\n",
        "from konlpy.tag import Okt\n",
        "from gensim.models import word2vec"
      ],
      "execution_count": 2,
      "outputs": []
    },
    {
      "cell_type": "code",
      "metadata": {
        "id": "1QhpO3dXVMqM",
        "colab_type": "code",
        "colab": {}
      },
      "source": [
        "#데이터셋\n",
        "f = codecs.open('/content/drive/My Drive/Tensorflow_works/data/ratings_train.txt', mode='r', encoding='utf-8')\n",
        "lines = f.read().splitlines()\n",
        "f.close()"
      ],
      "execution_count": 3,
      "outputs": []
    },
    {
      "cell_type": "code",
      "metadata": {
        "id": "6CgFhoeEWRzH",
        "colab_type": "code",
        "colab": {
          "base_uri": "https://localhost:8080/",
          "height": 35
        },
        "outputId": "d193ede3-ed28-4852-e664-d1d84f08fbf9"
      },
      "source": [
        "#데이터 확인\n",
        "lines[0]"
      ],
      "execution_count": 4,
      "outputs": [
        {
          "output_type": "execute_result",
          "data": {
            "application/vnd.google.colaboratory.intrinsic+json": {
              "type": "string"
            },
            "text/plain": [
              "'id\\tdocument\\tlabel'"
            ]
          },
          "metadata": {
            "tags": []
          },
          "execution_count": 4
        }
      ]
    },
    {
      "cell_type": "code",
      "metadata": {
        "id": "x3qOTkIJWUyd",
        "colab_type": "code",
        "colab": {
          "base_uri": "https://localhost:8080/",
          "height": 35
        },
        "outputId": "ad4f3ffd-edb9-4627-b742-98d450ceaed4"
      },
      "source": [
        "#데이터 전처리\n",
        "ratings_train = []\n",
        "\n",
        "for line in lines:\n",
        "  data = line.split('\\t')\n",
        "\n",
        "  ratings_train.append(data)\n",
        "\n",
        "#header 정보 행 제거\n",
        "ratings_train = ratings_train[1:]\n",
        "\n",
        "docs = []\n",
        "for line in ratings_train:\n",
        "  docs.append(line[1])\n",
        "\n",
        "len(docs)\n"
      ],
      "execution_count": 5,
      "outputs": [
        {
          "output_type": "execute_result",
          "data": {
            "text/plain": [
              "150000"
            ]
          },
          "metadata": {
            "tags": []
          },
          "execution_count": 5
        }
      ]
    },
    {
      "cell_type": "code",
      "metadata": {
        "id": "OvcZA5adXmUe",
        "colab_type": "code",
        "colab": {}
      },
      "source": [
        "# 데이터 형태소 분석\n",
        "okt = Okt()\n",
        "\n",
        "results = []\n",
        "\n",
        "for doc in docs:\n",
        "  okt_pos = okt.pos(doc, norm=True, stem=True)\n",
        "  print(okt_pos)\n",
        "  row= []\n",
        "\n",
        "  for word in okt_pos:\n",
        "    row.append(word[0])\n",
        "\n",
        "  results.append(row)"
      ],
      "execution_count": null,
      "outputs": []
    },
    {
      "cell_type": "code",
      "metadata": {
        "id": "l3Q8P4KNZa_c",
        "colab_type": "code",
        "colab": {}
      },
      "source": [
        "#word3vec 모델 생성\n",
        "model = word2vec.Word2Vec(results)\n",
        "model"
      ],
      "execution_count": null,
      "outputs": []
    },
    {
      "cell_type": "code",
      "metadata": {
        "id": "7dkBn0K-aeCw",
        "colab_type": "code",
        "colab": {}
      },
      "source": [
        "#단어 연관성 확인\n",
        "rs1 = model.wv.most_similiar(positive=['남자','여배우'], negative=['배우'])\n",
        "\n",
        "rs2 = model.wv.most_similar(positive=['정우성','조인성'])\n",
        "\n",
        "print('rs1 : ', rs1)\n",
        "print('rs2 : ', rs2)"
      ],
      "execution_count": null,
      "outputs": []
    }
  ]
}