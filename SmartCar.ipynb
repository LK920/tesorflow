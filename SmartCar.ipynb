{
  "nbformat": 4,
  "nbformat_minor": 0,
  "metadata": {
    "colab": {
      "name": "SmartCar.ipynb",
      "provenance": [],
      "mount_file_id": "1bn0Dged7txpToMdOj3OpWUkCFtLDKQR2",
      "authorship_tag": "ABX9TyPElbUOVhsNEMymKW2a7sgd",
      "include_colab_link": true
    },
    "kernelspec": {
      "name": "python3",
      "display_name": "Python 3"
    }
  },
  "cells": [
    {
      "cell_type": "markdown",
      "metadata": {
        "id": "view-in-github",
        "colab_type": "text"
      },
      "source": [
        "<a href=\"https://colab.research.google.com/github/LK920/tesorflow/blob/master/SmartCar.ipynb\" target=\"_parent\"><img src=\"https://colab.research.google.com/assets/colab-badge.svg\" alt=\"Open In Colab\"/></a>"
      ]
    },
    {
      "cell_type": "code",
      "metadata": {
        "id": "aQfrgSYron4k",
        "colab_type": "code",
        "colab": {
          "base_uri": "https://localhost:8080/",
          "height": 35
        },
        "outputId": "25968a10-cb00-4943-e17b-47f2714887fd"
      },
      "source": [
        "#필요한 라이브러리 임포트\n",
        "import tensorflow as tf\n",
        "import pandas as pd\n",
        "import matplotlib.pyplot as plt\n",
        "\n",
        "from time import time\n",
        "from tensorflow.python.keras.callbacks import TensorBoard\n",
        "from tensorflow import keras\n",
        "from tensorflow.keras.models import Sequential\n",
        "from tensorflow.keras.layers import Dense, Dropout\n",
        "from sklearn.preprocessing import StandardScaler\n",
        "from sklearn.model_selection import train_test_split\n",
        "from sklearn.metrics import roc_curve, roc_auc_score, auc\n",
        "from keras.utils import to_categorical\n",
        "from keras.models import load_model\n",
        "\n",
        "tf.__version__"
      ],
      "execution_count": 13,
      "outputs": [
        {
          "output_type": "execute_result",
          "data": {
            "application/vnd.google.colaboratory.intrinsic+json": {
              "type": "string"
            },
            "text/plain": [
              "'2.3.0'"
            ]
          },
          "metadata": {
            "tags": []
          },
          "execution_count": 13
        }
      ]
    },
    {
      "cell_type": "code",
      "metadata": {
        "id": "TT3ZdVoJrh1W",
        "colab_type": "code",
        "colab": {}
      },
      "source": [
        "#구글 드라이브 연동\n",
        "from google.colab import drive\n",
        "drive.mount('/content/drive')"
      ],
      "execution_count": null,
      "outputs": []
    },
    {
      "cell_type": "code",
      "metadata": {
        "id": "u_AEo1GYp2j2",
        "colab_type": "code",
        "colab": {
          "base_uri": "https://localhost:8080/",
          "height": 419
        },
        "outputId": "933a2443-2bbc-476c-8963-3a375520e4fb"
      },
      "source": [
        "#데이터셋 로드\n",
        "df = pd.read_csv('/content/drive/My Drive/Tensorflow_works/data/CarDrivingIncidentInfo.csv')\n",
        "df"
      ],
      "execution_count": 14,
      "outputs": [
        {
          "output_type": "execute_result",
          "data": {
            "text/html": [
              "<div>\n",
              "<style scoped>\n",
              "    .dataframe tbody tr th:only-of-type {\n",
              "        vertical-align: middle;\n",
              "    }\n",
              "\n",
              "    .dataframe tbody tr th {\n",
              "        vertical-align: top;\n",
              "    }\n",
              "\n",
              "    .dataframe thead th {\n",
              "        text-align: right;\n",
              "    }\n",
              "</style>\n",
              "<table border=\"1\" class=\"dataframe\">\n",
              "  <thead>\n",
              "    <tr style=\"text-align: right;\">\n",
              "      <th></th>\n",
              "      <th>wea</th>\n",
              "      <th>temp</th>\n",
              "      <th>hum</th>\n",
              "      <th>arrCar</th>\n",
              "      <th>timeSlot</th>\n",
              "      <th>acciArea</th>\n",
              "      <th>drvCond</th>\n",
              "      <th>innCond</th>\n",
              "      <th>carSpd</th>\n",
              "      <th>steeAng</th>\n",
              "      <th>acciPos</th>\n",
              "    </tr>\n",
              "  </thead>\n",
              "  <tbody>\n",
              "    <tr>\n",
              "      <th>0</th>\n",
              "      <td>0</td>\n",
              "      <td>1</td>\n",
              "      <td>1</td>\n",
              "      <td>1</td>\n",
              "      <td>1</td>\n",
              "      <td>2</td>\n",
              "      <td>1</td>\n",
              "      <td>2</td>\n",
              "      <td>2</td>\n",
              "      <td>1</td>\n",
              "      <td>2</td>\n",
              "    </tr>\n",
              "    <tr>\n",
              "      <th>1</th>\n",
              "      <td>1</td>\n",
              "      <td>0</td>\n",
              "      <td>0</td>\n",
              "      <td>0</td>\n",
              "      <td>0</td>\n",
              "      <td>0</td>\n",
              "      <td>2</td>\n",
              "      <td>0</td>\n",
              "      <td>0</td>\n",
              "      <td>0</td>\n",
              "      <td>0</td>\n",
              "    </tr>\n",
              "    <tr>\n",
              "      <th>2</th>\n",
              "      <td>1</td>\n",
              "      <td>0</td>\n",
              "      <td>0</td>\n",
              "      <td>1</td>\n",
              "      <td>0</td>\n",
              "      <td>1</td>\n",
              "      <td>2</td>\n",
              "      <td>0</td>\n",
              "      <td>1</td>\n",
              "      <td>1</td>\n",
              "      <td>0</td>\n",
              "    </tr>\n",
              "    <tr>\n",
              "      <th>3</th>\n",
              "      <td>0</td>\n",
              "      <td>0</td>\n",
              "      <td>0</td>\n",
              "      <td>0</td>\n",
              "      <td>0</td>\n",
              "      <td>1</td>\n",
              "      <td>2</td>\n",
              "      <td>1</td>\n",
              "      <td>1</td>\n",
              "      <td>0</td>\n",
              "      <td>0</td>\n",
              "    </tr>\n",
              "    <tr>\n",
              "      <th>4</th>\n",
              "      <td>0</td>\n",
              "      <td>0</td>\n",
              "      <td>0</td>\n",
              "      <td>0</td>\n",
              "      <td>0</td>\n",
              "      <td>0</td>\n",
              "      <td>2</td>\n",
              "      <td>2</td>\n",
              "      <td>2</td>\n",
              "      <td>0</td>\n",
              "      <td>0</td>\n",
              "    </tr>\n",
              "    <tr>\n",
              "      <th>...</th>\n",
              "      <td>...</td>\n",
              "      <td>...</td>\n",
              "      <td>...</td>\n",
              "      <td>...</td>\n",
              "      <td>...</td>\n",
              "      <td>...</td>\n",
              "      <td>...</td>\n",
              "      <td>...</td>\n",
              "      <td>...</td>\n",
              "      <td>...</td>\n",
              "      <td>...</td>\n",
              "    </tr>\n",
              "    <tr>\n",
              "      <th>199995</th>\n",
              "      <td>2</td>\n",
              "      <td>0</td>\n",
              "      <td>0</td>\n",
              "      <td>1</td>\n",
              "      <td>1</td>\n",
              "      <td>2</td>\n",
              "      <td>1</td>\n",
              "      <td>1</td>\n",
              "      <td>0</td>\n",
              "      <td>0</td>\n",
              "      <td>1</td>\n",
              "    </tr>\n",
              "    <tr>\n",
              "      <th>199996</th>\n",
              "      <td>0</td>\n",
              "      <td>1</td>\n",
              "      <td>1</td>\n",
              "      <td>1</td>\n",
              "      <td>0</td>\n",
              "      <td>1</td>\n",
              "      <td>0</td>\n",
              "      <td>0</td>\n",
              "      <td>2</td>\n",
              "      <td>1</td>\n",
              "      <td>0</td>\n",
              "    </tr>\n",
              "    <tr>\n",
              "      <th>199997</th>\n",
              "      <td>1</td>\n",
              "      <td>0</td>\n",
              "      <td>2</td>\n",
              "      <td>0</td>\n",
              "      <td>1</td>\n",
              "      <td>2</td>\n",
              "      <td>2</td>\n",
              "      <td>1</td>\n",
              "      <td>2</td>\n",
              "      <td>0</td>\n",
              "      <td>2</td>\n",
              "    </tr>\n",
              "    <tr>\n",
              "      <th>199998</th>\n",
              "      <td>0</td>\n",
              "      <td>1</td>\n",
              "      <td>0</td>\n",
              "      <td>2</td>\n",
              "      <td>1</td>\n",
              "      <td>2</td>\n",
              "      <td>0</td>\n",
              "      <td>0</td>\n",
              "      <td>0</td>\n",
              "      <td>0</td>\n",
              "      <td>0</td>\n",
              "    </tr>\n",
              "    <tr>\n",
              "      <th>199999</th>\n",
              "      <td>1</td>\n",
              "      <td>0</td>\n",
              "      <td>0</td>\n",
              "      <td>1</td>\n",
              "      <td>1</td>\n",
              "      <td>1</td>\n",
              "      <td>2</td>\n",
              "      <td>2</td>\n",
              "      <td>0</td>\n",
              "      <td>0</td>\n",
              "      <td>1</td>\n",
              "    </tr>\n",
              "  </tbody>\n",
              "</table>\n",
              "<p>200000 rows × 11 columns</p>\n",
              "</div>"
            ],
            "text/plain": [
              "        wea  temp  hum  arrCar  ...  innCond  carSpd  steeAng  acciPos\n",
              "0         0     1    1       1  ...        2       2        1        2\n",
              "1         1     0    0       0  ...        0       0        0        0\n",
              "2         1     0    0       1  ...        0       1        1        0\n",
              "3         0     0    0       0  ...        1       1        0        0\n",
              "4         0     0    0       0  ...        2       2        0        0\n",
              "...     ...   ...  ...     ...  ...      ...     ...      ...      ...\n",
              "199995    2     0    0       1  ...        1       0        0        1\n",
              "199996    0     1    1       1  ...        0       2        1        0\n",
              "199997    1     0    2       0  ...        1       2        0        2\n",
              "199998    0     1    0       2  ...        0       0        0        0\n",
              "199999    1     0    0       1  ...        2       0        0        1\n",
              "\n",
              "[200000 rows x 11 columns]"
            ]
          },
          "metadata": {
            "tags": []
          },
          "execution_count": 14
        }
      ]
    },
    {
      "cell_type": "code",
      "metadata": {
        "id": "KVJeJPePsP0P",
        "colab_type": "code",
        "colab": {}
      },
      "source": [
        "#데이터 전처리\n",
        "X = df.iloc[:, :-1].values\n",
        "Y = df.iloc[:, -1].values\n",
        "\n",
        "X_train, X_test, Y_train, Y_test = train_test_split(X, Y, test_size=0.2, random_state=1)\n",
        "\n",
        "Y_train = to_categorical(Y_train)\n",
        "Y_test = to_categorical(Y_test)\n",
        "\n",
        "sc = StandardScaler()\n",
        "X_train = sc.fit_transform(X_train)\n",
        "X_test = sc.transform(X_test)"
      ],
      "execution_count": 15,
      "outputs": []
    },
    {
      "cell_type": "code",
      "metadata": {
        "id": "osK2EBRzq2fN",
        "colab_type": "code",
        "colab": {
          "base_uri": "https://localhost:8080/",
          "height": 341
        },
        "outputId": "1a9edfd3-c5f0-4401-afbf-2ee7dc3f323f"
      },
      "source": [
        "#DNN 모델 구성 및 요약 정보 출력\n",
        "model = Sequential([\n",
        "                    Dense(10, input_dim=10, activation='relu'),\n",
        "                    Dense(20, activation='relu'),\n",
        "                    Dropout(0.25),\n",
        "                    Dense(10, activation='relu'),\n",
        "                    Dense(3, activation='softmax')\n",
        "])\n",
        "model.compile(optimizer='adam',\n",
        "              loss='categorical_crossentropy',\n",
        "              metrics=['acc'])\n",
        "model.summary()\n"
      ],
      "execution_count": 18,
      "outputs": [
        {
          "output_type": "stream",
          "text": [
            "Model: \"sequential_4\"\n",
            "_________________________________________________________________\n",
            "Layer (type)                 Output Shape              Param #   \n",
            "=================================================================\n",
            "dense_20 (Dense)             (None, 10)                110       \n",
            "_________________________________________________________________\n",
            "dense_21 (Dense)             (None, 20)                220       \n",
            "_________________________________________________________________\n",
            "dropout_5 (Dropout)          (None, 20)                0         \n",
            "_________________________________________________________________\n",
            "dense_22 (Dense)             (None, 10)                210       \n",
            "_________________________________________________________________\n",
            "dense_23 (Dense)             (None, 3)                 33        \n",
            "=================================================================\n",
            "Total params: 573\n",
            "Trainable params: 573\n",
            "Non-trainable params: 0\n",
            "_________________________________________________________________\n"
          ],
          "name": "stdout"
        }
      ]
    },
    {
      "cell_type": "code",
      "metadata": {
        "id": "J4Zyef0FuWSo",
        "colab_type": "code",
        "colab": {
          "base_uri": "https://localhost:8080/",
          "height": 1000
        },
        "outputId": "4e428193-17a9-4cba-db6a-2baa999584ae"
      },
      "source": [
        "#DNN 모델 학습\n",
        "hist = model.fit(X_train, \n",
        "                 Y_train, \n",
        "                 batch_size=2000, \n",
        "                 epochs=50,\n",
        "                 validation_data=(X_test, Y_test))"
      ],
      "execution_count": 19,
      "outputs": [
        {
          "output_type": "stream",
          "text": [
            "Epoch 1/50\n",
            "80/80 [==============================] - 0s 5ms/step - loss: 0.9725 - acc: 0.5171 - val_loss: 0.7339 - val_acc: 0.7171\n",
            "Epoch 2/50\n",
            "80/80 [==============================] - 0s 3ms/step - loss: 0.5828 - acc: 0.7760 - val_loss: 0.3610 - val_acc: 0.8877\n",
            "Epoch 3/50\n",
            "80/80 [==============================] - 0s 4ms/step - loss: 0.3476 - acc: 0.8698 - val_loss: 0.2179 - val_acc: 0.9403\n",
            "Epoch 4/50\n",
            "80/80 [==============================] - 0s 3ms/step - loss: 0.2360 - acc: 0.9149 - val_loss: 0.1460 - val_acc: 0.9644\n",
            "Epoch 5/50\n",
            "80/80 [==============================] - 0s 4ms/step - loss: 0.1723 - acc: 0.9413 - val_loss: 0.1086 - val_acc: 0.9745\n",
            "Epoch 6/50\n",
            "80/80 [==============================] - 0s 4ms/step - loss: 0.1349 - acc: 0.9560 - val_loss: 0.0853 - val_acc: 0.9798\n",
            "Epoch 7/50\n",
            "80/80 [==============================] - 0s 3ms/step - loss: 0.1094 - acc: 0.9657 - val_loss: 0.0689 - val_acc: 0.9839\n",
            "Epoch 8/50\n",
            "80/80 [==============================] - 0s 3ms/step - loss: 0.0915 - acc: 0.9719 - val_loss: 0.0546 - val_acc: 0.9871\n",
            "Epoch 9/50\n",
            "80/80 [==============================] - 0s 3ms/step - loss: 0.0758 - acc: 0.9773 - val_loss: 0.0455 - val_acc: 0.9883\n",
            "Epoch 10/50\n",
            "80/80 [==============================] - 0s 4ms/step - loss: 0.0660 - acc: 0.9805 - val_loss: 0.0399 - val_acc: 0.9888\n",
            "Epoch 11/50\n",
            "80/80 [==============================] - 0s 3ms/step - loss: 0.0589 - acc: 0.9822 - val_loss: 0.0359 - val_acc: 0.9893\n",
            "Epoch 12/50\n",
            "80/80 [==============================] - 0s 4ms/step - loss: 0.0541 - acc: 0.9832 - val_loss: 0.0331 - val_acc: 0.9891\n",
            "Epoch 13/50\n",
            "80/80 [==============================] - 0s 4ms/step - loss: 0.0499 - acc: 0.9844 - val_loss: 0.0309 - val_acc: 0.9897\n",
            "Epoch 14/50\n",
            "80/80 [==============================] - 0s 4ms/step - loss: 0.0469 - acc: 0.9855 - val_loss: 0.0288 - val_acc: 0.9904\n",
            "Epoch 15/50\n",
            "80/80 [==============================] - 0s 3ms/step - loss: 0.0440 - acc: 0.9860 - val_loss: 0.0272 - val_acc: 0.9909\n",
            "Epoch 16/50\n",
            "80/80 [==============================] - 0s 4ms/step - loss: 0.0414 - acc: 0.9868 - val_loss: 0.0253 - val_acc: 0.9918\n",
            "Epoch 17/50\n",
            "80/80 [==============================] - 0s 4ms/step - loss: 0.0387 - acc: 0.9875 - val_loss: 0.0236 - val_acc: 0.9929\n",
            "Epoch 18/50\n",
            "80/80 [==============================] - 0s 3ms/step - loss: 0.0359 - acc: 0.9884 - val_loss: 0.0213 - val_acc: 0.9929\n",
            "Epoch 19/50\n",
            "80/80 [==============================] - 0s 4ms/step - loss: 0.0326 - acc: 0.9894 - val_loss: 0.0185 - val_acc: 0.9935\n",
            "Epoch 20/50\n",
            "80/80 [==============================] - 0s 4ms/step - loss: 0.0295 - acc: 0.9901 - val_loss: 0.0160 - val_acc: 0.9941\n",
            "Epoch 21/50\n",
            "80/80 [==============================] - 0s 4ms/step - loss: 0.0261 - acc: 0.9918 - val_loss: 0.0139 - val_acc: 0.9961\n",
            "Epoch 22/50\n",
            "80/80 [==============================] - 0s 3ms/step - loss: 0.0238 - acc: 0.9926 - val_loss: 0.0122 - val_acc: 0.9963\n",
            "Epoch 23/50\n",
            "80/80 [==============================] - 0s 4ms/step - loss: 0.0216 - acc: 0.9929 - val_loss: 0.0109 - val_acc: 0.9963\n",
            "Epoch 24/50\n",
            "80/80 [==============================] - 0s 4ms/step - loss: 0.0199 - acc: 0.9930 - val_loss: 0.0097 - val_acc: 0.9963\n",
            "Epoch 25/50\n",
            "80/80 [==============================] - 0s 4ms/step - loss: 0.0183 - acc: 0.9933 - val_loss: 0.0088 - val_acc: 0.9963\n",
            "Epoch 26/50\n",
            "80/80 [==============================] - 0s 4ms/step - loss: 0.0169 - acc: 0.9933 - val_loss: 0.0081 - val_acc: 0.9963\n",
            "Epoch 27/50\n",
            "80/80 [==============================] - 0s 4ms/step - loss: 0.0153 - acc: 0.9937 - val_loss: 0.0075 - val_acc: 0.9963\n",
            "Epoch 28/50\n",
            "80/80 [==============================] - 0s 4ms/step - loss: 0.0149 - acc: 0.9934 - val_loss: 0.0070 - val_acc: 0.9964\n",
            "Epoch 29/50\n",
            "80/80 [==============================] - 0s 4ms/step - loss: 0.0132 - acc: 0.9940 - val_loss: 0.0064 - val_acc: 0.9965\n",
            "Epoch 30/50\n",
            "80/80 [==============================] - 0s 4ms/step - loss: 0.0126 - acc: 0.9944 - val_loss: 0.0059 - val_acc: 0.9967\n",
            "Epoch 31/50\n",
            "80/80 [==============================] - 0s 4ms/step - loss: 0.0119 - acc: 0.9950 - val_loss: 0.0056 - val_acc: 0.9969\n",
            "Epoch 32/50\n",
            "80/80 [==============================] - 0s 3ms/step - loss: 0.0112 - acc: 0.9955 - val_loss: 0.0054 - val_acc: 0.9979\n",
            "Epoch 33/50\n",
            "80/80 [==============================] - 0s 3ms/step - loss: 0.0105 - acc: 0.9959 - val_loss: 0.0050 - val_acc: 0.9982\n",
            "Epoch 34/50\n",
            "80/80 [==============================] - 0s 4ms/step - loss: 0.0097 - acc: 0.9968 - val_loss: 0.0046 - val_acc: 0.9990\n",
            "Epoch 35/50\n",
            "80/80 [==============================] - 0s 4ms/step - loss: 0.0091 - acc: 0.9972 - val_loss: 0.0041 - val_acc: 0.9991\n",
            "Epoch 36/50\n",
            "80/80 [==============================] - 0s 4ms/step - loss: 0.0086 - acc: 0.9974 - val_loss: 0.0042 - val_acc: 0.9995\n",
            "Epoch 37/50\n",
            "80/80 [==============================] - 0s 4ms/step - loss: 0.0083 - acc: 0.9977 - val_loss: 0.0038 - val_acc: 0.9997\n",
            "Epoch 38/50\n",
            "80/80 [==============================] - 0s 4ms/step - loss: 0.0078 - acc: 0.9980 - val_loss: 0.0034 - val_acc: 0.9997\n",
            "Epoch 39/50\n",
            "80/80 [==============================] - 0s 4ms/step - loss: 0.0074 - acc: 0.9982 - val_loss: 0.0033 - val_acc: 0.9997\n",
            "Epoch 40/50\n",
            "80/80 [==============================] - 0s 3ms/step - loss: 0.0070 - acc: 0.9984 - val_loss: 0.0032 - val_acc: 0.9997\n",
            "Epoch 41/50\n",
            "80/80 [==============================] - 0s 4ms/step - loss: 0.0068 - acc: 0.9984 - val_loss: 0.0030 - val_acc: 0.9997\n",
            "Epoch 42/50\n",
            "80/80 [==============================] - 0s 3ms/step - loss: 0.0062 - acc: 0.9986 - val_loss: 0.0026 - val_acc: 0.9997\n",
            "Epoch 43/50\n",
            "80/80 [==============================] - 0s 4ms/step - loss: 0.0062 - acc: 0.9986 - val_loss: 0.0026 - val_acc: 0.9997\n",
            "Epoch 44/50\n",
            "80/80 [==============================] - 0s 4ms/step - loss: 0.0061 - acc: 0.9986 - val_loss: 0.0026 - val_acc: 0.9997\n",
            "Epoch 45/50\n",
            "80/80 [==============================] - 0s 4ms/step - loss: 0.0058 - acc: 0.9986 - val_loss: 0.0023 - val_acc: 0.9997\n",
            "Epoch 46/50\n",
            "80/80 [==============================] - 0s 4ms/step - loss: 0.0054 - acc: 0.9987 - val_loss: 0.0021 - val_acc: 0.9997\n",
            "Epoch 47/50\n",
            "80/80 [==============================] - 0s 4ms/step - loss: 0.0052 - acc: 0.9988 - val_loss: 0.0020 - val_acc: 0.9997\n",
            "Epoch 48/50\n",
            "80/80 [==============================] - 0s 4ms/step - loss: 0.0048 - acc: 0.9989 - val_loss: 0.0020 - val_acc: 0.9997\n",
            "Epoch 49/50\n",
            "80/80 [==============================] - 0s 3ms/step - loss: 0.0049 - acc: 0.9988 - val_loss: 0.0018 - val_acc: 0.9997\n",
            "Epoch 50/50\n",
            "80/80 [==============================] - 0s 4ms/step - loss: 0.0047 - acc: 0.9987 - val_loss: 0.0017 - val_acc: 0.9998\n"
          ],
          "name": "stdout"
        }
      ]
    },
    {
      "cell_type": "code",
      "metadata": {
        "id": "qAFjKAkhvX2d",
        "colab_type": "code",
        "colab": {
          "base_uri": "https://localhost:8080/",
          "height": 53
        },
        "outputId": "31cf7a3a-fb53-404e-a005-368de84bd025"
      },
      "source": [
        "#모델을 학습 결과\n",
        "score = model.evaluate(X_test, Y_test, verbose=0)\n",
        "print(model.metrics_names)\n",
        "print(score)"
      ],
      "execution_count": 20,
      "outputs": [
        {
          "output_type": "stream",
          "text": [
            "['loss', 'acc']\n",
            "[0.0017350353300571442, 0.999750018119812]\n"
          ],
          "name": "stdout"
        }
      ]
    },
    {
      "cell_type": "code",
      "metadata": {
        "id": "mCRLVrzpv49w",
        "colab_type": "code",
        "colab": {
          "base_uri": "https://localhost:8080/",
          "height": 279
        },
        "outputId": "31444e91-1200-424e-baf2-3aba6408eef0"
      },
      "source": [
        "#DNN 모델의 학습 결과 시각화\n",
        "fig, loss_ax = plt.subplots()\n",
        "acc_ax = loss_ax.twinx()\n",
        "\n",
        "loss_ax.plot(hist.history['loss'], 'y', label='train loss')\n",
        "loss_ax.plot(hist.history['val_loss'], 'r', label='val loss')\n",
        "acc_ax.plot(hist.history['acc'], 'b', label='train acc')\n",
        "acc_ax.plot(hist.history['val_acc'], 'g', label='val acc')\n",
        "\n",
        "loss_ax.set_xlabel('epoch')\n",
        "\n",
        "loss_ax.set_ylabel('loss')\n",
        "loss_ax.legend(loc='lower right')\n",
        "\n",
        "acc_ax.set_ylabel('accuracy')\n",
        "acc_ax.legend(loc='upper right')\n",
        "\n",
        "plt.show()"
      ],
      "execution_count": 22,
      "outputs": [
        {
          "output_type": "display_data",
          "data": {
            "image/png": "[encoded data removed]",
            "text/plain": [
              "<Figure size 432x288 with 2 Axes>"
            ]
          },
          "metadata": {
            "tags": [],
            "needs_background": "light"
          }
        }
      ]
    },
    {
      "cell_type": "code",
      "metadata": {
        "id": "Q1Qe41jvw4vw",
        "colab_type": "code",
        "colab": {
          "base_uri": "https://localhost:8080/",
          "height": 163
        },
        "outputId": "146b47f4-4ef8-4d41-c11e-480d15c9ee39"
      },
      "source": [
        "#모델 저장\n",
        "model.save('/content/drive/My Drive/Tensorflow_works/smartcar_model')"
      ],
      "execution_count": 23,
      "outputs": [
        {
          "output_type": "stream",
          "text": [
            "WARNING:tensorflow:From /usr/local/lib/python3.6/dist-packages/tensorflow/python/training/tracking/tracking.py:111: Model.state_updates (from tensorflow.python.keras.engine.training) is deprecated and will be removed in a future version.\n",
            "Instructions for updating:\n",
            "This property should not be used in TensorFlow 2.0, as updates are applied automatically.\n",
            "WARNING:tensorflow:From /usr/local/lib/python3.6/dist-packages/tensorflow/python/training/tracking/tracking.py:111: Layer.updates (from tensorflow.python.keras.engine.base_layer) is deprecated and will be removed in a future version.\n",
            "Instructions for updating:\n",
            "This property should not be used in TensorFlow 2.0, as updates are applied automatically.\n",
            "INFO:tensorflow:Assets written to: /content/drive/My Drive/Tensorflow_works/smartcar_model/assets\n"
          ],
          "name": "stdout"
        }
      ]
    }
  ]
}