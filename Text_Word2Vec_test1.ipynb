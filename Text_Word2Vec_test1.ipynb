{
  "nbformat": 4,
  "nbformat_minor": 0,
  "metadata": {
    "colab": {
      "name": "Text_Word2Vec_test1.ipynb",
      "provenance": [],
      "authorship_tag": "ABX9TyPphmXXVLRGXOn9lU92xFaX",
      "include_colab_link": true
    },
    "kernelspec": {
      "name": "python3",
      "display_name": "Python 3"
    }
  },
  "cells": [
    {
      "cell_type": "markdown",
      "metadata": {
        "id": "view-in-github",
        "colab_type": "text"
      },
      "source": [
        "<a href=\"https://colab.research.google.com/github/LK920/tesorflow/blob/master/Text_Word2Vec_test1.ipynb\" target=\"_parent\"><img src=\"https://colab.research.google.com/assets/colab-badge.svg\" alt=\"Open In Colab\"/></a>"
      ]
    },
    {
      "cell_type": "code",
      "metadata": {
        "id": "XvHxYUb5NI-c",
        "colab_type": "code",
        "colab": {
          "base_uri": "https://localhost:8080/",
          "height": 107
        },
        "outputId": "44b2e2f4-70c8-4b50-ee5e-92a2cc8c8200"
      },
      "source": [
        "import nltk\n",
        "from nltk.corpus import movie_reviews\n",
        "from gensim.models.word2vec import Word2Vec\n",
        "\n",
        "nltk.download('movie_reviews')\n",
        "nltk.download('punkt')"
      ],
      "execution_count": null,
      "outputs": [
        {
          "output_type": "stream",
          "text": [
            "[nltk_data] Downloading package movie_reviews to /root/nltk_data...\n",
            "[nltk_data]   Unzipping corpora/movie_reviews.zip.\n",
            "[nltk_data] Downloading package punkt to /root/nltk_data...\n",
            "[nltk_data]   Unzipping tokenizers/punkt.zip.\n"
          ],
          "name": "stdout"
        },
        {
          "output_type": "execute_result",
          "data": {
            "text/plain": [
              "True"
            ]
          },
          "metadata": {
            "tags": []
          },
          "execution_count": 2
        }
      ]
    },
    {
      "cell_type": "code",
      "metadata": {
        "id": "jShZPShgNasj",
        "colab_type": "code",
        "colab": {
          "base_uri": "https://localhost:8080/",
          "height": 35
        },
        "outputId": "7a339775-83f6-4ee6-b7e0-a94a5358f83a"
      },
      "source": [
        "sentences = [list(s) for s in movie_reviews.sents()]\n",
        "len(sentences)"
      ],
      "execution_count": null,
      "outputs": [
        {
          "output_type": "execute_result",
          "data": {
            "text/plain": [
              "71532"
            ]
          },
          "metadata": {
            "tags": []
          },
          "execution_count": 5
        }
      ]
    },
    {
      "cell_type": "code",
      "metadata": {
        "id": "aP3F5oRGOEpo",
        "colab_type": "code",
        "colab": {
          "base_uri": "https://localhost:8080/",
          "height": 35
        },
        "outputId": "087a5da8-946f-41e3-f56e-6965a7faa8ce"
      },
      "source": [
        "#word2vec 모델 생성\n",
        "model = Word2Vec(sentences)\n",
        "model"
      ],
      "execution_count": null,
      "outputs": [
        {
          "output_type": "execute_result",
          "data": {
            "text/plain": [
              "<gensim.models.word2vec.Word2Vec at 0x7f3952743978>"
            ]
          },
          "metadata": {
            "tags": []
          },
          "execution_count": 7
        }
      ]
    },
    {
      "cell_type": "code",
      "metadata": {
        "id": "_-ioti-DOv_Z",
        "colab_type": "code",
        "colab": {
          "base_uri": "https://localhost:8080/",
          "height": 145
        },
        "outputId": "8f5e72fc-59fd-4235-dbbe-7a44b21f0bf7"
      },
      "source": [
        "#단어 연관성 확인\n",
        "v1 = model.wv.similarity('actor', 'actress')\n",
        "v2 = model.wv.similarity('he', 'she')\n",
        "v3 = model.wv.most_similar('father')\n",
        "v4 = model.wv.most_similar(positive=['woman','king'], negative=['man'])\n",
        "\n",
        "\n",
        "\n",
        "\n",
        "\n",
        "print('v1 : ', v1)\n",
        "print('v2 : ', v2)\n",
        "print('v3 : ', v3)\n",
        "print('v4 : ', v4)"
      ],
      "execution_count": null,
      "outputs": [
        {
          "output_type": "stream",
          "text": [
            "v1 :  0.8748375\n",
            "v2 :  0.8434001\n",
            "v3 :  [('mother', 0.9701555371284485), ('wife', 0.9539555311203003), ('son', 0.9523152112960815), ('daughter', 0.9497272372245789), ('girlfriend', 0.9340804815292358), ('brother', 0.9234935641288757), ('husband', 0.9177299737930298), ('sister', 0.9122034311294556), ('partner', 0.8999544382095337), ('lover', 0.8750720024108887)]\n",
            "v4 :  [('williams', 0.8759454488754272), ('paul', 0.8749556541442871), ('bill', 0.8654912710189819), ('campbell', 0.8653457760810852), ('danny', 0.8641085624694824), ('michael', 0.8618718385696411), ('chris', 0.8610022068023682), ('jay', 0.8597452640533447), ('ben', 0.8580313324928284), ('captain', 0.8576784133911133)]\n"
          ],
          "name": "stdout"
        },
        {
          "output_type": "stream",
          "text": [
            "/usr/local/lib/python3.6/dist-packages/gensim/matutils.py:737: FutureWarning: Conversion of the second argument of issubdtype from `int` to `np.signedinteger` is deprecated. In future, it will be treated as `np.int64 == np.dtype(int).type`.\n",
            "  if np.issubdtype(vec.dtype, np.int):\n"
          ],
          "name": "stderr"
        }
      ]
    },
    {
      "cell_type": "code",
      "metadata": {
        "id": "1OlxdfpvPOLh",
        "colab_type": "code",
        "colab": {}
      },
      "source": [
        ""
      ],
      "execution_count": null,
      "outputs": []
    }
  ]
}