{
  "nbformat": 4,
  "nbformat_minor": 0,
  "metadata": {
    "colab": {
      "name": "Text_KoNlpy_Test1.ipynb",
      "provenance": [],
      "authorship_tag": "ABX9TyMWYrLGBgcjdJ4fGJ6oJtKn",
      "include_colab_link": true
    },
    "kernelspec": {
      "name": "python3",
      "display_name": "Python 3"
    },
    "accelerator": "GPU"
  },
  "cells": [
    {
      "cell_type": "markdown",
      "metadata": {
        "id": "view-in-github",
        "colab_type": "text"
      },
      "source": [
        "<a href=\"https://colab.research.google.com/github/LK920/tesorflow/blob/master/Text_KoNlpy_Test1.ipynb\" target=\"_parent\"><img src=\"https://colab.research.google.com/assets/colab-badge.svg\" alt=\"Open In Colab\"/></a>"
      ]
    },
    {
      "cell_type": "code",
      "metadata": {
        "id": "Kn-Pxau4KEX5",
        "colab_type": "code",
        "colab": {}
      },
      "source": [
        "pip install konlpy"
      ],
      "execution_count": null,
      "outputs": []
    },
    {
      "cell_type": "code",
      "metadata": {
        "id": "XE0D8JEXJaO-",
        "colab_type": "code",
        "colab": {}
      },
      "source": [
        "\"\"\"\n",
        "날짜 : 20/09/08\n",
        "이름 : 강래구\n",
        "내용 : konlpy 패키지 형태소 분석 실습하기\n",
        "\"\"\"\n",
        "\n",
        "from konlpy.tag import Okt\n",
        "from konlpy.tag import Kkma"
      ],
      "execution_count": null,
      "outputs": []
    },
    {
      "cell_type": "code",
      "metadata": {
        "id": "no5VSMEjKQ23",
        "colab_type": "code",
        "colab": {}
      },
      "source": [
        "#한글 형태소 분석기 생성\n",
        "okt = Okt() #twitter 분석기 open korean text\n",
        "kkma = Kkma()"
      ],
      "execution_count": null,
      "outputs": []
    },
    {
      "cell_type": "code",
      "metadata": {
        "id": "PqfkMf0_KgWX",
        "colab_type": "code",
        "colab": {
          "base_uri": "https://localhost:8080/",
          "height": 53
        },
        "outputId": "eed39494-4ac9-4d89-9cab-0c7945820e88"
      },
      "source": [
        "#형태소 분석 실행\n",
        "oktresult = okt.pos('나는 보리밥을 먹었다.')\n",
        "print(oktresult)\n",
        "\n",
        "kkmaresult = kkma.pos('나는 보리밥을 먹었다.')\n",
        "print(kkmaresult)"
      ],
      "execution_count": null,
      "outputs": [
        {
          "output_type": "stream",
          "text": [
            "[('나', 'Noun'), ('는', 'Josa'), ('보리밥', 'Noun'), ('을', 'Josa'), ('먹었다', 'Verb'), ('.', 'Punctuation')]\n",
            "[('나', 'NP'), ('는', 'JX'), ('보리밥', 'NNG'), ('을', 'JKO'), ('먹', 'VV'), ('었', 'EPT'), ('다', 'EFN'), ('.', 'SF')]\n"
          ],
          "name": "stdout"
        }
      ]
    },
    {
      "cell_type": "code",
      "metadata": {
        "id": "OkW1lWb4LADf",
        "colab_type": "code",
        "colab": {
          "base_uri": "https://localhost:8080/",
          "height": 269
        },
        "outputId": "239b0e0c-3ab2-4992-ea46-e73a2c3fd3dc"
      },
      "source": [
        "#한글 형태소 분석\n",
        "result = okt.pos('흠.....포스터보고 초딩영화인줄..... 오버연기조차 가볍지 않구나 ㅋㅋ',norm=True, stem=True)\n",
        "result"
      ],
      "execution_count": null,
      "outputs": [
        {
          "output_type": "execute_result",
          "data": {
            "text/plain": [
              "[('흠', 'Noun'),\n",
              " ('.....', 'Punctuation'),\n",
              " ('포스터', 'Noun'),\n",
              " ('보고', 'Noun'),\n",
              " ('초딩', 'Noun'),\n",
              " ('영화인', 'Noun'),\n",
              " ('줄', 'Noun'),\n",
              " ('.....', 'Punctuation'),\n",
              " ('오버', 'Noun'),\n",
              " ('연기', 'Noun'),\n",
              " ('조차', 'Josa'),\n",
              " ('가볍다', 'Adjective'),\n",
              " ('않다', 'Verb'),\n",
              " ('ㅋㅋ', 'KoreanParticle')]"
            ]
          },
          "metadata": {
            "tags": []
          },
          "execution_count": 9
        }
      ]
    },
    {
      "cell_type": "code",
      "metadata": {
        "id": "PEHe2mAyMk1Z",
        "colab_type": "code",
        "colab": {}
      },
      "source": [
        ""
      ],
      "execution_count": null,
      "outputs": []
    }
  ]
}